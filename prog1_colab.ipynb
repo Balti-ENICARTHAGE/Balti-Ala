{
  "nbformat": 4,
  "nbformat_minor": 0,
  "metadata": {
    "colab": {
      "provenance": [],
      "authorship_tag": "ABX9TyPmpKZSy4uKFYHUkfLnQxr2",
      "include_colab_link": true
    },
    "kernelspec": {
      "name": "python3",
      "display_name": "Python 3"
    },
    "language_info": {
      "name": "python"
    },
    "accelerator": "GPU",
    "gpuClass": "standard"
  },
  "cells": [
    {
      "cell_type": "markdown",
      "metadata": {
        "id": "view-in-github",
        "colab_type": "text"
      },
      "source": [
        "<a href=\"https://colab.research.google.com/github/Balti-ENICARTHAGE/Balti-Ala/blob/main/prog1_colab.ipynb\" target=\"_parent\"><img src=\"https://colab.research.google.com/assets/colab-badge.svg\" alt=\"Open In Colab\"/></a>"
      ]
    },
    {
      "cell_type": "code",
      "execution_count": 6,
      "metadata": {
        "id": "ZHmbQLMem4uL",
        "colab": {
          "base_uri": "https://localhost:8080/"
        },
        "outputId": "447e25e9-4d2c-4a87-f025-721a8d1a9f2d"
      },
      "outputs": [
        {
          "output_type": "stream",
          "name": "stdout",
          "text": [
            "Downloading data from https://storage.googleapis.com/tensorflow/tf-keras-datasets/mnist.npz\n",
            "11490434/11490434 [==============================] - 2s 0us/step\n",
            "x_train shape: (60000, 28, 28, 1)\n",
            "60000 train samples\n",
            "10000 test samples\n",
            "Epoch 1/12\n",
            "469/469 [==============================] - 13s 10ms/step - loss: 2.2848 - accuracy: 0.1388 - val_loss: 2.2508 - val_accuracy: 0.2655\n",
            "Epoch 2/12\n",
            "469/469 [==============================] - 4s 9ms/step - loss: 2.2294 - accuracy: 0.2392 - val_loss: 2.1819 - val_accuracy: 0.4314\n",
            "Epoch 3/12\n",
            "469/469 [==============================] - 4s 9ms/step - loss: 2.1577 - accuracy: 0.3325 - val_loss: 2.0901 - val_accuracy: 0.5736\n",
            "Epoch 4/12\n",
            "469/469 [==============================] - 4s 9ms/step - loss: 2.0629 - accuracy: 0.4122 - val_loss: 1.9696 - val_accuracy: 0.6613\n",
            "Epoch 5/12\n",
            "469/469 [==============================] - 4s 9ms/step - loss: 1.9405 - accuracy: 0.4862 - val_loss: 1.8147 - val_accuracy: 0.7091\n",
            "Epoch 6/12\n",
            "469/469 [==============================] - 4s 9ms/step - loss: 1.7908 - accuracy: 0.5410 - val_loss: 1.6301 - val_accuracy: 0.7440\n",
            "Epoch 7/12\n",
            "469/469 [==============================] - 4s 9ms/step - loss: 1.6288 - accuracy: 0.5834 - val_loss: 1.4335 - val_accuracy: 0.7740\n",
            "Epoch 8/12\n",
            "469/469 [==============================] - 4s 9ms/step - loss: 1.4683 - accuracy: 0.6177 - val_loss: 1.2455 - val_accuracy: 0.7914\n",
            "Epoch 9/12\n",
            "469/469 [==============================] - 4s 9ms/step - loss: 1.3254 - accuracy: 0.6433 - val_loss: 1.0821 - val_accuracy: 0.8063\n",
            "Epoch 10/12\n",
            "469/469 [==============================] - 4s 9ms/step - loss: 1.2051 - accuracy: 0.6682 - val_loss: 0.9498 - val_accuracy: 0.8194\n",
            "Epoch 11/12\n",
            "469/469 [==============================] - 4s 9ms/step - loss: 1.1087 - accuracy: 0.6833 - val_loss: 0.8468 - val_accuracy: 0.8297\n",
            "Epoch 12/12\n",
            "469/469 [==============================] - 4s 9ms/step - loss: 1.0287 - accuracy: 0.7013 - val_loss: 0.7656 - val_accuracy: 0.8382\n",
            "Test loss: 0.765598714351654\n",
            "Test accuracy: 0.8381999731063843\n"
          ]
        }
      ],
      "source": [
        "\n",
        "'''\n",
        "Train a simple convnet on the MNIST dataset. \n",
        "(there is still a lot of margin for parameter tuning).\n",
        "'''\n",
        "from __future__ import print_function\n",
        "from tensorflow.keras.datasets import mnist\n",
        "from tensorflow.keras.models import Sequential\n",
        "from tensorflow.keras.layers import Dense, Dropout, Flatten\n",
        "from tensorflow.keras.layers import Conv2D, MaxPooling2D\n",
        "from tensorflow.keras import backend as K\n",
        "from tensorflow.keras.utils import to_categorical\n",
        "from tensorflow.keras.losses import categorical_crossentropy\n",
        "from tensorflow.keras.optimizers import Adadelta\n",
        "\n",
        "batch_size = 128\n",
        "num_classes = 10\n",
        "epochs = 12\n",
        "\n",
        "# input image dimensions\n",
        "img_rows, img_cols = 28, 28\n",
        "\n",
        "# the data, split between train and test sets\n",
        "# if you have an error loading data in your IDE, try the following link:\n",
        "# https://github.com/tensorflow/tensorflow/issues/33285\n",
        "(x_train, y_train), (x_test, y_test) = mnist.load_data()\n",
        "\n",
        "if K.image_data_format() == 'channels_first':\n",
        "    x_train = x_train.reshape(x_train.shape[0], 1, img_rows, img_cols)\n",
        "    x_test = x_test.reshape(x_test.shape[0], 1, img_rows, img_cols)\n",
        "    input_shape = (1, img_rows, img_cols)\n",
        "else:\n",
        "    x_train = x_train.reshape(x_train.shape[0], img_rows, img_cols, 1)\n",
        "    x_test = x_test.reshape(x_test.shape[0], img_rows, img_cols, 1)\n",
        "    input_shape = (img_rows, img_cols, 1)\n",
        "\n",
        "x_train = x_train.astype('float32')\n",
        "x_test = x_test.astype('float32')\n",
        "x_train /= 255\n",
        "x_test /= 255\n",
        "print('x_train shape:', x_train.shape)\n",
        "print(x_train.shape[0], 'train samples')\n",
        "print(x_test.shape[0], 'test samples')\n",
        "\n",
        "# convert class vectors to binary class matrices\n",
        "y_train = to_categorical(y_train, num_classes)\n",
        "y_test = to_categorical(y_test, num_classes)\n",
        "\n",
        "model = Sequential()\n",
        "model.add(Conv2D(32, kernel_size=(3, 3),\n",
        "                 activation='relu',\n",
        "                 input_shape=input_shape))\n",
        "model.add(Conv2D(64, (3, 3), activation='relu'))\n",
        "model.add(MaxPooling2D(pool_size=(2, 2)))\n",
        "model.add(Dropout(0.25))\n",
        "model.add(Flatten())\n",
        "model.add(Dense(128, activation='relu'))\n",
        "model.add(Dropout(0.5))\n",
        "model.add(Dense(num_classes, activation='softmax'))\n",
        "\n",
        "model.compile(loss=categorical_crossentropy,\n",
        "              optimizer=Adadelta(),\n",
        "              metrics=['accuracy'])\n",
        "\n",
        "model.fit(x_train, y_train,\n",
        "          batch_size=batch_size,\n",
        "          epochs=epochs,\n",
        "          verbose=1,\n",
        "          validation_data=(x_test, y_test))\n",
        "score = model.evaluate(x_test, y_test, verbose=0)\n",
        "print('Test loss:', score[0])\n",
        "print('Test accuracy:', score[1])\n"
      ]
    },
    {
      "cell_type": "code",
      "source": [],
      "metadata": {
        "id": "H5lmW0lfnPGz"
      },
      "execution_count": null,
      "outputs": []
    }
  ]
}