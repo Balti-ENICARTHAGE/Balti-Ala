{
  "nbformat": 4,
  "nbformat_minor": 0,
  "metadata": {
    "colab": {
      "provenance": [],
      "authorship_tag": "ABX9TyPrwNLnA0J1WnRgHygvKCXx",
      "include_colab_link": true
    },
    "kernelspec": {
      "name": "python3",
      "display_name": "Python 3"
    },
    "language_info": {
      "name": "python"
    }
  },
  "cells": [
    {
      "cell_type": "markdown",
      "metadata": {
        "id": "view-in-github",
        "colab_type": "text"
      },
      "source": [
        "<a href=\"https://colab.research.google.com/github/Balti-ENICARTHAGE/Balti-Ala/blob/main/valeur_fianle.ipynb\" target=\"_parent\"><img src=\"https://colab.research.google.com/assets/colab-badge.svg\" alt=\"Open In Colab\"/></a>"
      ]
    },
    {
      "cell_type": "code",
      "execution_count": 1,
      "metadata": {
        "colab": {
          "base_uri": "https://localhost:8080/",
          "height": 297
        },
        "id": "wxxsPnwsgi9E",
        "outputId": "d3d400fd-baaa-4477-82fb-8f6f15c1a8b5"
      },
      "outputs": [
        {
          "output_type": "stream",
          "name": "stdout",
          "text": [
            "valeur finale= 4.997004817549134\n"
          ]
        },
        {
          "output_type": "display_data",
          "data": {
            "text/plain": [
              "<Figure size 432x288 with 1 Axes>"
            ],
            "image/png": "[encoded data removed]"
          },
          "metadata": {
            "needs_background": "light"
          }
        }
      ],
      "source": [
        "from pylab import *     #importation de pylab pour les graphiques\n",
        "from numpy import *\n",
        "from scipy.signal import lti,step\n",
        "\n",
        "m=0.5\n",
        "wn=1\n",
        "K=5\n",
        "\n",
        "tf=lti([K],[(1/(wn**2)),2*m/wn,1])\n",
        "t,y=step(tf)\n",
        "\n",
        "fig=figure()\n",
        "fig.patch.set_alpha(0.0)\n",
        "\n",
        "plot(t,y)\n",
        "xlabel(\"temps(s)\")\n",
        "ylabel(\"sortie\")\n",
        "plot([0,14],[K,K],'--',color=\"k\")\n",
        "text(11, K+0.05, 'Valeur finale')\n",
        "print(\"valeur finale=\",y[-1])\n",
        "show()"
      ]
    }
  ]
}